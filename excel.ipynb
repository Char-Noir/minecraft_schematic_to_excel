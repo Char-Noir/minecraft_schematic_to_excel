{
 "cells": [
  {
   "cell_type": "code",
   "execution_count": 89,
   "metadata": {},
   "outputs": [],
   "source": [
    "import xlsxwriter\n",
    "import json\n",
    "import glob\n",
    "import io\n",
    "import os\n",
    "from typing import Tuple\n",
    "from PIL import Image"
   ]
  },
  {
   "cell_type": "code",
   "execution_count": 90,
   "metadata": {},
   "outputs": [],
   "source": [
    "file = open('3087-large-medieval-house.json')\n",
    "schema_json = json.loads(file.read())\n",
    "file.close()"
   ]
  },
  {
   "cell_type": "code",
   "execution_count": 91,
   "metadata": {},
   "outputs": [],
   "source": [
    "file = open('blocks_raw.json')\n",
    "blocks_name = json.loads(file.read())\n",
    "file.close()"
   ]
  },
  {
   "cell_type": "code",
   "execution_count": 92,
   "metadata": {},
   "outputs": [],
   "source": [
    "blocks = {}\n",
    "for item in blocks_name:\n",
    "    blocks[item['index']] = item"
   ]
  },
  {
   "cell_type": "code",
   "execution_count": 93,
   "metadata": {},
   "outputs": [],
   "source": [
    "workbook = xlsxwriter.Workbook(schema_json['title']+'.xlsx')"
   ]
  },
  {
   "cell_type": "code",
   "execution_count": 94,
   "metadata": {},
   "outputs": [],
   "source": [
    "cells = schema_json['cells']"
   ]
  },
  {
   "cell_type": "code",
   "execution_count": 95,
   "metadata": {},
   "outputs": [],
   "source": [
    "xs = []\n",
    "ys = []\n",
    "zs = []"
   ]
  },
  {
   "cell_type": "code",
   "execution_count": 96,
   "metadata": {},
   "outputs": [],
   "source": [
    "for i in range(len(cells)):\n",
    "    cell = cells[i]\n",
    "    if cell['x'] not in xs:\n",
    "        xs.append(cell['x'])\n",
    "    if cell['y'] not in ys:\n",
    "        ys.append(cell['y'])\n",
    "    if cell['z'] not in zs:\n",
    "        zs.append(cell['z'])"
   ]
  },
  {
   "cell_type": "code",
   "execution_count": 97,
   "metadata": {},
   "outputs": [
    {
     "name": "stdout",
     "output_type": "stream",
     "text": [
      "x_max: 17, y_max: 20, z_max: 10, x_min: -18, y_min: 0, z_min: -10\n"
     ]
    }
   ],
   "source": [
    "x_max = max(xs)\n",
    "x_min = min(xs)\n",
    "y_max = max(ys)\n",
    "y_min = min(ys)\n",
    "z_max = max(zs)\n",
    "z_min = min(zs)\n",
    "print(f'x_max: {x_max}, y_max: {y_max}, z_max: {z_max}, x_min: {x_min}, y_min: {y_min}, z_min: {z_min}')"
   ]
  },
  {
   "cell_type": "code",
   "execution_count": 98,
   "metadata": {},
   "outputs": [
    {
     "data": {
      "text/plain": [
       "[0, 1, 2, 3, 4, 5, 6, 7, 8, 9, 10, 11, 12, 13, 14, 15, 16, 17, 18, 19, 20]"
      ]
     },
     "execution_count": 98,
     "metadata": {},
     "output_type": "execute_result"
    }
   ],
   "source": [
    "ys.sort()\n",
    "xs.sort()\n",
    "zs.sort()\n",
    "ys"
   ]
  },
  {
   "cell_type": "code",
   "execution_count": 99,
   "metadata": {},
   "outputs": [],
   "source": [
    "y_sheets = {}"
   ]
  },
  {
   "cell_type": "code",
   "execution_count": 100,
   "metadata": {},
   "outputs": [
    {
     "data": {
      "text/plain": [
       "{0: [<xlsxwriter.worksheet.Worksheet at 0x233966278e0>, []],\n",
       " 1: [<xlsxwriter.worksheet.Worksheet at 0x23396626b90>, []],\n",
       " 2: [<xlsxwriter.worksheet.Worksheet at 0x23396627ac0>, []],\n",
       " 3: [<xlsxwriter.worksheet.Worksheet at 0x23396627f40>, []],\n",
       " 4: [<xlsxwriter.worksheet.Worksheet at 0x233966276d0>, []],\n",
       " 5: [<xlsxwriter.worksheet.Worksheet at 0x23396626d40>, []],\n",
       " 6: [<xlsxwriter.worksheet.Worksheet at 0x23396626ec0>, []],\n",
       " 7: [<xlsxwriter.worksheet.Worksheet at 0x23396627b80>, []],\n",
       " 8: [<xlsxwriter.worksheet.Worksheet at 0x23396627be0>, []],\n",
       " 9: [<xlsxwriter.worksheet.Worksheet at 0x23396627250>, []],\n",
       " 10: [<xlsxwriter.worksheet.Worksheet at 0x23396627820>, []],\n",
       " 11: [<xlsxwriter.worksheet.Worksheet at 0x23396627130>, []],\n",
       " 12: [<xlsxwriter.worksheet.Worksheet at 0x23396627f70>, []],\n",
       " 13: [<xlsxwriter.worksheet.Worksheet at 0x23391c46bc0>, []],\n",
       " 14: [<xlsxwriter.worksheet.Worksheet at 0x233966269e0>, []],\n",
       " 15: [<xlsxwriter.worksheet.Worksheet at 0x23396627ee0>, []],\n",
       " 16: [<xlsxwriter.worksheet.Worksheet at 0x233966279a0>, []],\n",
       " 17: [<xlsxwriter.worksheet.Worksheet at 0x23396626ce0>, []],\n",
       " 18: [<xlsxwriter.worksheet.Worksheet at 0x23396627400>, []],\n",
       " 19: [<xlsxwriter.worksheet.Worksheet at 0x23396626dd0>, []],\n",
       " 20: [<xlsxwriter.worksheet.Worksheet at 0x23396626e60>, []]}"
      ]
     },
     "execution_count": 100,
     "metadata": {},
     "output_type": "execute_result"
    }
   ],
   "source": [
    "for i in range(len(ys)):\n",
    "    worksheet = workbook.add_worksheet(str(ys[i]+1))\n",
    "    y_sheets[ys[i]] = [worksheet,[]]\n",
    "y_sheets    "
   ]
  },
  {
   "cell_type": "code",
   "execution_count": 101,
   "metadata": {},
   "outputs": [],
   "source": [
    "left_border = workbook.add_format()\n",
    "right_border = workbook.add_format()\n",
    "top_border = workbook.add_format()\n",
    "bottom_border = workbook.add_format()\n",
    "bottom_border.set_bottom(5)\n",
    "top_border.set_top(5)\n",
    "left_border.set_left(5)\n",
    "right_border.set_right(5)"
   ]
  },
  {
   "cell_type": "code",
   "execution_count": 102,
   "metadata": {},
   "outputs": [],
   "source": [
    "def add_numbers_to_sheet(sheet):\n",
    "    sheet[0].set_column_pixels(0, len(xs)+1, 20)\n",
    "    for i in range(len(zs)+2):\n",
    "        sheet[0].set_row_pixels(i,21)\n",
    "    xs_range = list(range(1,len(xs)+1))\n",
    "    sheet[0].write_row(0,1,xs_range,bottom_border)\n",
    "    xs_range.reverse()\n",
    "    sheet[0].write_row(len(zs)+1,1,xs_range,top_border)\n",
    "    zs_range = list(range(1,len(zs)+1))\n",
    "    sheet[0].write_column(1,0,zs_range,right_border)\n",
    "    zs_range.reverse()\n",
    "    sheet[0].write_column(1,len(xs)+1,zs_range,left_border)\n",
    "        "
   ]
  },
  {
   "cell_type": "code",
   "execution_count": 103,
   "metadata": {},
   "outputs": [],
   "source": [
    "for y in ys:\n",
    "    add_numbers_to_sheet(y_sheets[y])"
   ]
  },
  {
   "cell_type": "code",
   "execution_count": 104,
   "metadata": {},
   "outputs": [],
   "source": [
    "def buffer_image(image: Image, format: str = 'PNG'):\n",
    "    # Store image in buffer, so we don't have to write it to disk.\n",
    "    buffer = io.BytesIO()\n",
    "    image.save(buffer, format=format)\n",
    "    return buffer, image"
   ]
  },
  {
   "cell_type": "code",
   "execution_count": 105,
   "metadata": {},
   "outputs": [],
   "source": [
    "def open_img(path: str):\n",
    "    image = Image.open(path)\n",
    "    return image"
   ]
  },
  {
   "cell_type": "code",
   "execution_count": 106,
   "metadata": {},
   "outputs": [],
   "source": [
    "def rotate(image: Image, rotation: int = 90, format='PNG'):\n",
    "    image = image.rotate(rotation, Image.NEAREST, expand=1)\n",
    "    return buffer_image(image, format)"
   ]
  },
  {
   "cell_type": "code",
   "execution_count": 107,
   "metadata": {},
   "outputs": [],
   "source": [
    "resources = {}"
   ]
  },
  {
   "cell_type": "code",
   "execution_count": 108,
   "metadata": {},
   "outputs": [],
   "source": [
    "def add_block(x,y,z,id,data=0):\n",
    "    x = abs(x_min)+x+1\n",
    "    z = abs(z_min)+z+1\n",
    "    sheet = y_sheets[y][0]\n",
    "    sheet.write(z,x,id)\n",
    "    sheet.write_comment(z,x,blocks[id]['name'])\n",
    "    name = blocks[id]['name']\n",
    "    if name.startswith(\"double_\"):\n",
    "        name = name[7:]\n",
    "    if name not in resources.keys():\n",
    "        resources[name] = 0\n",
    "    if(blocks[id]['type']==\"Door\" and data==2):\n",
    "        resources[name]-=1\n",
    "    resources[name] += 1\n",
    "    if(blocks[id]['name'].startswith(\"double_\")):\n",
    "        resources[name] += 1    \n",
    "    if 'sprite' in blocks[id].keys():\n",
    "        sheet.insert_image(z,x, blocks[id]['sprite'], {'x_scale': 1, 'y_scale': 1})\n",
    "    if blocks[id]['type'] == \"Slab\" and (data==5 or data==8 or data == 0):\n",
    "        sheet.insert_image(z,x, blocks[id]['downsprite'], {'x_scale': 1, 'y_scale': 1})\n",
    "    if blocks[id]['type'] == \"Slab\" and (data==11 or data==12):\n",
    "        sheet.insert_image(z,x, blocks[id]['upsprite'], {'x_scale': 1, 'y_scale': 1})\n",
    "    if blocks[id]['type'] == \"Wood\" and data==4:\n",
    "        image_buffer, image = rotate(open_img(blocks[id]['upsprite']), 90, format='PNG')\n",
    "        sheet.insert_image(z,x, blocks[id]['upsprite'], {'image_data': image_buffer, **{'x_scale': 1.3, 'y_scale': 1.3}})\n",
    "    elif blocks[id]['type'] == \"Wood\" and (data==0 or data==5 or data==8):\n",
    "        sheet.insert_image(z,x, blocks[id]['downsprite'], {'x_scale': 1, 'y_scale': 1})   "
   ]
  },
  {
   "cell_type": "code",
   "execution_count": 109,
   "metadata": {},
   "outputs": [
    {
     "name": "stderr",
     "output_type": "stream",
     "text": [
      "C:\\Users\\dbury\\AppData\\Local\\Temp\\ipykernel_16692\\1718297770.py:2: DeprecationWarning: NEAREST is deprecated and will be removed in Pillow 10 (2023-07-01). Use Resampling.NEAREST or Dither.NONE instead.\n",
      "  image = image.rotate(rotation, Image.NEAREST, expand=1)\n"
     ]
    }
   ],
   "source": [
    "for cell in cells:\n",
    "    if 'data' in cell.keys():\n",
    "        add_block(cell['x'],cell['y'],cell['z'],cell['block_id'],cell['data'])\n",
    "    else:\n",
    "        add_block(cell['x'],cell['y'],cell['z'],cell['block_id'],cell['data']) \n",
    "    if(cell['block_id'] not in y_sheets[cell['y']][1]):\n",
    "        y_sheets[cell['y']][1].append(cell['block_id'])"
   ]
  },
  {
   "cell_type": "code",
   "execution_count": 110,
   "metadata": {},
   "outputs": [],
   "source": [
    "def number_to_letter(numb):\n",
    "    file = open(\"letters.json\")\n",
    "    letters = json.load(file)\n",
    "    file.close()\n",
    "    result = ''\n",
    "    n = numb\n",
    "    while n != 0:\n",
    "        n, d = divmod(n, 26)\n",
    "        result+= letters[str(d)]\n",
    "    return result[::-1]"
   ]
  },
  {
   "cell_type": "code",
   "execution_count": 111,
   "metadata": {},
   "outputs": [],
   "source": [
    "formula_var = '=COUNTIF(B2:'+number_to_letter(len(xs)+1)+str(len(zs)+1)+','+number_to_letter(len(xs)+6)\n",
    "formula_empty = '=COUNTBLANK(B2:'+number_to_letter(len(xs)+1)+str(len(zs)+1)+')'\n",
    "formula_sum = '=SUM('+number_to_letter(len(xs)+7)+'3:'+number_to_letter(len(xs)+7)"
   ]
  },
  {
   "cell_type": "code",
   "execution_count": 112,
   "metadata": {},
   "outputs": [],
   "source": [
    "type_offset = 4\n",
    "id_offset = 5\n",
    "count_offset = 6\n",
    "image_offset = 3"
   ]
  },
  {
   "cell_type": "code",
   "execution_count": 113,
   "metadata": {},
   "outputs": [],
   "source": [
    "for y in ys:\n",
    "    [sheet, ids] = y_sheets[y]\n",
    "    sheet.set_column(len(xs)+id_offset,len(xs)+count_offset, 4)\n",
    "    sheet.set_column_pixels(len(xs)+image_offset,len(xs)+image_offset, 20)\n",
    "    sheet.write(1,len(xs)+type_offset,'type')\n",
    "    sheet.write(1,len(xs)+id_offset,'id')\n",
    "    sheet.write(1,len(xs)+count_offset,'count')\n",
    "    in_counter = 0\n",
    "    max_type_lenght = 0\n",
    "    for id in ids:\n",
    "        in_counter += 1\n",
    "        if 'sprite' in blocks[id].keys():\n",
    "            sheet.insert_image(1+in_counter,len(xs)+image_offset, blocks[id]['sprite'], {'x_scale': 1, 'y_scale': 1})\n",
    "        if (blocks[id]['type'] == 'Slab' or blocks[id]['type'] == 'Wood') and 'downsprite' in blocks[id].keys() :\n",
    "            sheet.insert_image(1+in_counter,len(xs)+image_offset, blocks[id]['downsprite'], {'x_scale': 1, 'y_scale': 1})\n",
    "        max_type_lenght = max(max_type_lenght,len(blocks[id]['name']))\n",
    "        sheet.write(1+in_counter,len(xs)+type_offset,blocks[id]['name'])\n",
    "        sheet.write(1+in_counter,len(xs)+id_offset,id)\n",
    "        sheet.write(1+in_counter,len(xs)+count_offset,formula_var+str(in_counter+2)+')')\n",
    "    sheet.set_column(len(xs)+type_offset,len(xs)+type_offset, max_type_lenght)\n",
    "    in_counter += 1\n",
    "    sheet.write(1+in_counter,len(xs)+type_offset,'air')\n",
    "    sheet.write(1+in_counter,len(xs)+count_offset,formula_empty)\n",
    "    in_counter += 1\n",
    "    sheet.write(1+in_counter,len(xs)+type_offset,'sum')\n",
    "    sheet.write(1+in_counter,len(xs)+count_offset,formula_sum+str(in_counter+1)+')')\n",
    "    in_counter += 1\n",
    "    sheet.write(1+in_counter,len(xs)+type_offset,'square')\n",
    "    sheet.write(1+in_counter,len(xs)+count_offset,len(xs)*len(zs))\n",
    "\n",
    "\n",
    "    "
   ]
  },
  {
   "cell_type": "code",
   "execution_count": 114,
   "metadata": {},
   "outputs": [
    {
     "data": {
      "text/plain": [
       "{'Oak_Wood_Planks': 532,\n",
       " 'Stone_Brick': 510,\n",
       " 'Wood': 326,\n",
       " 'acacia_stairs': 305,\n",
       " 'wooden_slab': 297,\n",
       " 'Dirt': 279,\n",
       " 'Cobblestone': 258,\n",
       " 'Grass': 244,\n",
       " 'Stone_Slab': 108,\n",
       " 'Cobblestone_Wall': 108,\n",
       " 'stone_brick_stairs': 77,\n",
       " 'Fence': 56,\n",
       " 'stained_glass_pane': 55,\n",
       " 'Double_Stone_Slab': 36,\n",
       " 'Oak_Wood_Stairs': 32,\n",
       " 'Trapdoor': 17,\n",
       " 'Rails': 10,\n",
       " 'Glowstone': 4,\n",
       " 'jungle_stairs': 2,\n",
       " 'Wooden_Door': 2,\n",
       " 'Stone_Button': 1}"
      ]
     },
     "execution_count": 114,
     "metadata": {},
     "output_type": "execute_result"
    }
   ],
   "source": [
    "resources = dict(sorted(resources.items(), key=lambda x:x[1],reverse=True))\n",
    "resources"
   ]
  },
  {
   "cell_type": "code",
   "execution_count": 115,
   "metadata": {},
   "outputs": [
    {
     "data": {
      "text/plain": [
       "0"
      ]
     },
     "execution_count": 115,
     "metadata": {},
     "output_type": "execute_result"
    }
   ],
   "source": [
    "summary = workbook.add_worksheet(\"summary\")\n",
    "summary.write(0,1,\"type\")\n",
    "summary.write(0,2,\"amount\")\n",
    "summary.set_column_pixels(0, 0, 20)"
   ]
  },
  {
   "cell_type": "code",
   "execution_count": 116,
   "metadata": {},
   "outputs": [],
   "source": [
    "def get_block_from_dict(name):\n",
    "    for id, block in blocks.items():\n",
    "        if(block['name'] == name):\n",
    "            return block\n",
    "    print(name)        "
   ]
  },
  {
   "cell_type": "code",
   "execution_count": 117,
   "metadata": {},
   "outputs": [],
   "source": [
    "counter = 0\n",
    "for (id, amount) in resources.items():\n",
    "    counter+=1\n",
    "    summary.set_row_pixels(counter, 21)\n",
    "    summary.write(counter, 1, id)\n",
    "    summary.write(counter, 2, amount)\n",
    "    block = get_block_from_dict(id)\n",
    "    if 'sprite' in block.keys():\n",
    "        summary.insert_image(counter,0, block['sprite'], {'x_scale': 1, 'y_scale': 1})\n",
    "    if (block['type'] == 'Slab' or block['type'] == 'Wood') and 'downsprite' in block.keys() :\n",
    "        summary.insert_image(counter,0, block['downsprite'], {'x_scale': 1, 'y_scale': 1})\n",
    "        "
   ]
  },
  {
   "cell_type": "code",
   "execution_count": 118,
   "metadata": {},
   "outputs": [],
   "source": [
    "workbook.close()"
   ]
  }
 ],
 "metadata": {
  "kernelspec": {
   "display_name": "Python 3",
   "language": "python",
   "name": "python3"
  },
  "language_info": {
   "codemirror_mode": {
    "name": "ipython",
    "version": 3
   },
   "file_extension": ".py",
   "mimetype": "text/x-python",
   "name": "python",
   "nbconvert_exporter": "python",
   "pygments_lexer": "ipython3",
   "version": "3.10.4 (tags/v3.10.4:9d38120, Mar 23 2022, 23:13:41) [MSC v.1929 64 bit (AMD64)]"
  },
  "orig_nbformat": 4,
  "vscode": {
   "interpreter": {
    "hash": "427df2174d5eebfb78961d5616db87dc4a01d81689951787ba91f402ba329ca5"
   }
  }
 },
 "nbformat": 4,
 "nbformat_minor": 2
}
